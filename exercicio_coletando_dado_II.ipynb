{
  "nbformat": 4,
  "nbformat_minor": 0,
  "metadata": {
    "colab": {
      "provenance": [],
      "authorship_tag": "ABX9TyPkFVyU/y89WeGlGX7eAHc7"
    },
    "kernelspec": {
      "name": "python3",
      "display_name": "Python 3"
    },
    "language_info": {
      "name": "python"
    }
  },
  "cells": [
    {
      "cell_type": "markdown",
      "source": [
        "Iremos extrair informações do IMDB (ranking de filmes mais votados)"
      ],
      "metadata": {
        "id": "cwZv4v9tR0A5"
      }
    },
    {
      "cell_type": "markdown",
      "source": [
        "Lembre-se de usar o robots [imdb_robots](https://https://www.imdb.com/robots.txt)"
      ],
      "metadata": {
        "id": "rmculUnBSJQZ"
      }
    },
    {
      "cell_type": "markdown",
      "source": [
        "1.Utilizando o pacote Python  requests  para fazer o download do conteúdo do arquivo robots.txt  do site do IMDB e salve numa variável chamada  robots , este é o link: https://www.imdb.com/robots.txt\n",
        "\n",
        "2. Com o conteúdo na variável  robots , verifique se a palavra  top  ou  charts está presente no conteúdo do texto. Se sim, imprima  True , senão imprima  False."
      ],
      "metadata": {
        "id": "PytCsD7qS0Qx"
      }
    },
    {
      "cell_type": "code",
      "execution_count": null,
      "metadata": {
        "id": "gmqLfrrwRpVi"
      },
      "outputs": [],
      "source": [
        "import requests\n",
        "from requests.exceptions import HTTPError\n",
        "\n",
        "robots = None\n",
        "URL = 'https://www.imdb.com/robots.txt'\n",
        "\n",
        "try:\n",
        "  resposta = requests.get(URL)\n",
        "  resposta.raise_for_status()\n",
        "except HTTPError as exc:\n",
        "  print(exc)\n",
        "else:\n",
        "  robots = resposta.text\n",
        "\n",
        "print(robots)"
      ]
    },
    {
      "cell_type": "code",
      "source": [
        "if 'top' in robots or 'charts' in robots:\n",
        "  print(True)\n",
        "else:\n",
        "  print(False)"
      ],
      "metadata": {
        "id": "wYuFd8mEd3nP"
      },
      "execution_count": null,
      "outputs": []
    },
    {
      "cell_type": "markdown",
      "source": [
        "Parte 2"
      ],
      "metadata": {
        "id": "Sq4cRDbsevxE"
      }
    },
    {
      "cell_type": "code",
      "source": [
        "import requests\n",
        "from requests.exceptions import HTTPError\n",
        "from bs4 import BeautifulSoup\n",
        "import csv\n",
        "\n",
        "conteudo = None\n",
        "url = 'https://www.imdb.com/chart/top/'\n",
        "\n",
        "def crawl_website(url: str) -> str:\n",
        "  headers = {'User-Agent': 'Mozilla/5.0 (Windows NT 10.0; Win64; x64) AppleWebKit/537.36 (KHTML, like Gecko) Chrome/91.0.4472.124 Safari/537.36'}\n",
        "\n",
        "  try:\n",
        "    resposta = requests.get(url,headers=headers)\n",
        "    resposta.raise_for_status()\n",
        "  except HTTPError as exc:\n",
        "    print(exc)\n",
        "  else:\n",
        "    conteudo = resposta.text"
      ],
      "metadata": {
        "id": "sXqmkgPrexjo"
      },
      "execution_count": 3,
      "outputs": []
    },
    {
      "cell_type": "code",
      "source": [
        "print(resposta.status_code)"
      ],
      "metadata": {
        "id": "wyNsCrLtmgZJ",
        "colab": {
          "base_uri": "https://localhost:8080/"
        },
        "outputId": "77d8447c-3188-4067-bcc7-2fe3416922a0"
      },
      "execution_count": 4,
      "outputs": [
        {
          "output_type": "stream",
          "name": "stdout",
          "text": [
            "200\n"
          ]
        }
      ]
    },
    {
      "cell_type": "markdown",
      "source": [
        "Estrutura final do codigo:\n"
      ],
      "metadata": {
        "id": "rHAkKiorfkQy"
      }
    },
    {
      "cell_type": "code",
      "source": [
        "#Ultilizando o pacote request para fazer o download da página na variável conteudo\n",
        "import requests\n",
        "from requests.exceptions import HTTPError\n",
        "\n",
        "URL = 'https://www.imdb.com/chart/top/'\n",
        "headers = {'User-Agent': 'Mozilla/5.0 (Windows NT 10.0; Win64; x64) AppleWebKit/537.36 (KHTML, like Gecko) Chrome/91.0.4472.124 Safari/537.36',\n",
        "           'Accpet-language':'pt-BR,pt; q=0.5',\n",
        "           }\n",
        "\n",
        "def crawl_website (url:str, headers:dict) -> str:\n",
        "  try:\n",
        "    resposta = requests.get(url, headers=headers)\n",
        "    resposta.raise_for_status()\n",
        "  except HTTPError as exc:\n",
        "    print(f'HTTP error ocurred;{exc}')\n",
        "  else:\n",
        "    return resposta.text\n",
        "\n",
        "conteudo = crawl_website(url=URL, headers=headers)\n",
        "#print(conteudo)\n",
        "\n",
        "#Verificando se o conteudo foi baixado com sucesso\n",
        "if conteudo is not None:\n",
        "  print('Conteudo da pagina baixado com sucesso!')\n",
        "else:\n",
        "  print('falha ao baixar conteudo da pagina')"
      ],
      "metadata": {
        "colab": {
          "base_uri": "https://localhost:8080/"
        },
        "id": "CR06AuBLODx9",
        "outputId": "2eab5526-becc-4049-9945-c876283c007b"
      },
      "execution_count": 8,
      "outputs": [
        {
          "output_type": "stream",
          "name": "stdout",
          "text": [
            "Conteudo da pagina baixado com sucesso!\n"
          ]
        }
      ]
    },
    {
      "cell_type": "code",
      "source": [
        "#parte 2: ultilizar pacote beautifulsoup4 para carregar o HTML da variavel conteudo na variavel pagina\n",
        "from bs4 import BeautifulSoup\n",
        "pagina = BeautifulSoup(conteudo, 'html.parser')\n",
        "\n",
        "#verificando se o HTML foi carregado\n",
        "if pagina is not None:\n",
        "  print('html carregado com sucesso')\n",
        "else:\n",
        "  print('falha ao carregar o html')"
      ],
      "metadata": {
        "colab": {
          "base_uri": "https://localhost:8080/"
        },
        "id": "HBDY14oqOUVw",
        "outputId": "0907cb87-3767-474e-fa10-a3f77c8f51f4"
      },
      "execution_count": 9,
      "outputs": [
        {
          "output_type": "stream",
          "name": "stdout",
          "text": [
            "html carregado com sucesso\n"
          ]
        }
      ]
    },
    {
      "cell_type": "code",
      "source": [
        "#iterando nas linhas e colunas da tabela e preenchendo a variavel conteudo_extraido\n",
        "conteudo_extraido = []\n",
        "\n",
        "tabela = pagina.find('div', {\"data-testid\":\"chart-layout-main-column\"})\n",
        "movies = tabela.find('ul')\n",
        "\n",
        "for linha in movies.find_all('li'):\n",
        "  conteudo_extraido.append(linha.get_text(';').strip().split(';'))\n",
        "\n",
        "#imprimindo os 10 primeiros filmes\n",
        "for filme in conteudo_extraido[:10]:\n",
        "  print(filme)"
      ],
      "metadata": {
        "colab": {
          "base_uri": "https://localhost:8080/"
        },
        "id": "q0mZjM21RZj7",
        "outputId": "73cab28e-fd47-4b47-e1bd-99e051a977f7"
      },
      "execution_count": 11,
      "outputs": [
        {
          "output_type": "stream",
          "name": "stdout",
          "text": [
            "['1. The Shawshank Redemption', '1994', '2h 22m', 'R', '9.3', '\\xa0(', '2.8M', ')', 'Rate']\n",
            "['2. The Godfather', '1972', '2h 55m', 'R', '9.2', '\\xa0(', '2M', ')', 'Rate']\n",
            "['3. The Dark Knight', '2008', '2h 32m', 'PG-13', '9.0', '\\xa0(', '2.8M', ')', 'Rate']\n",
            "['4. The Godfather Part II', '1974', '3h 22m', 'R', '9.0', '\\xa0(', '1.3M', ')', 'Rate']\n",
            "['5. 12 Angry Men', '1957', '1h 36m', 'Approved', '9.0', '\\xa0(', '845K', ')', 'Rate']\n",
            "[\"6. Schindler's List\", '1993', '3h 15m', 'R', '9.0', '\\xa0(', '1.4M', ')', 'Rate']\n",
            "['7. The Lord of the Rings: The Return of the King', '2003', '3h 21m', 'PG-13', '9.0', '\\xa0(', '1.9M', ')', 'Rate']\n",
            "['8. Pulp Fiction', '1994', '2h 34m', 'R', '8.9', '\\xa0(', '2.2M', ')', 'Rate']\n",
            "['9. The Lord of the Rings: The Fellowship of the Ring', '2001', '2h 58m', 'PG-13', '8.8', '\\xa0(', '2M', ')', 'Rate']\n",
            "['10. The Good, the Bad and the Ugly', '1966', '2h 58m', 'Approved', '8.8', '\\xa0(', '797K', ')', 'Rate']\n"
          ]
        }
      ]
    }
  ]
}